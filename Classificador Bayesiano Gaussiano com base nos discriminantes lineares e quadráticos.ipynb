{
 "cells": [
  {
   "cell_type": "code",
   "execution_count": 15,
   "metadata": {},
   "outputs": [],
   "source": [
    "import pandas as pd\n",
    "import numpy as np\n",
    "import math\n"
   ]
  },
  {
   "cell_type": "code",
   "execution_count": 16,
   "metadata": {},
   "outputs": [],
   "source": [
    "iris = pd.read_csv('iris.data.txt',names=['sepal_length','sepal_width','petal_length','petal_width','class'])"
   ]
  },
  {
   "cell_type": "code",
   "execution_count": 17,
   "metadata": {},
   "outputs": [],
   "source": [
    "iris_copy = iris.copy()\n",
    "train = iris_copy.sample(frac=0.80, random_state=1)\n",
    "test = iris_copy.drop(train.index)"
   ]
  },
  {
   "cell_type": "code",
   "execution_count": 18,
   "metadata": {},
   "outputs": [],
   "source": [
    "setosa = train[train['class'] == 0]\n",
    "versicolor = train[train['class'] == 1]\n",
    "virginica = train[train['class'] == 2]"
   ]
  },
  {
   "cell_type": "code",
   "execution_count": 19,
   "metadata": {},
   "outputs": [],
   "source": [
    "mean_setosa = np.array(setosa.iloc[0:,:4].mean())\n",
    "mean_versiciolor = np.array(virginica.iloc[0:,:4].mean())\n",
    "mean_viriginica = np.array(versicolor.iloc[0:,:4].mean())"
   ]
  },
  {
   "cell_type": "code",
   "execution_count": 20,
   "metadata": {},
   "outputs": [],
   "source": [
    "cov_matrix_setosa = np.cov(np.transpose(setosa.iloc[0:,:4]))\n",
    "cov_matrix_versicolor = np.cov(np.transpose(versicolor.iloc[0:,:4]))\n",
    "cov_matrix_virginica = np.cov(np.transpose(virginica.iloc[0:,:4]))"
   ]
  },
  {
   "cell_type": "code",
   "execution_count": 21,
   "metadata": {},
   "outputs": [],
   "source": [
    "cov_matrices = [cov_matrix_setosa,cov_matrix_versicolor,cov_matrix_virginica]\n",
    "means = [mean_setosa,mean_versiciolor,mean_viriginica]"
   ]
  },
  {
   "cell_type": "code",
   "execution_count": 22,
   "metadata": {},
   "outputs": [],
   "source": [
    "import collections \n",
    "def pre_prob(y,n):\n",
    "    y_dict = collections.Counter(y)\n",
    "    pre_probab = np.ones(n)\n",
    "    for i in range(0, n):\n",
    "        pre_probab[i] = y_dict[i]/y.shape[0]\n",
    "    return pre_probab"
   ]
  },
  {
   "cell_type": "code",
   "execution_count": 23,
   "metadata": {},
   "outputs": [],
   "source": [
    "def discrimant(x,cov_matrix,mean,p):\n",
    "    inverse = np.linalg.inv(cov_matrix)\n",
    "    a = x - mean\n",
    "    product = np.dot(np.transpose(a),inverse)\n",
    "    return -(np.dot(product,a))/2 + np.log(p)"
   ]
  },
  {
   "cell_type": "code",
   "execution_count": 24,
   "metadata": {},
   "outputs": [],
   "source": [
    "prob = pre_prob(train['class'].values,3)"
   ]
  },
  {
   "cell_type": "code",
   "execution_count": 25,
   "metadata": {},
   "outputs": [
    {
     "data": {
      "text/plain": [
       "array([0.33333333, 0.30833333, 0.35833333])"
      ]
     },
     "execution_count": 25,
     "metadata": {},
     "output_type": "execute_result"
    }
   ],
   "source": [
    "prob"
   ]
  },
  {
   "cell_type": "code",
   "execution_count": 26,
   "metadata": {},
   "outputs": [
    {
     "ename": "NameError",
     "evalue": "name 'linear_discrimant' is not defined",
     "output_type": "error",
     "traceback": [
      "\u001b[0;31m---------------------------------------------------------------------------\u001b[0m",
      "\u001b[0;31mNameError\u001b[0m                                 Traceback (most recent call last)",
      "\u001b[0;32m<ipython-input-26-27fccdb6ab0c>\u001b[0m in \u001b[0;36m<module>\u001b[0;34m\u001b[0m\n\u001b[0;32m----> 1\u001b[0;31m \u001b[0mlinear_discrimant\u001b[0m\u001b[0;34m(\u001b[0m\u001b[0mtest\u001b[0m\u001b[0;34m.\u001b[0m\u001b[0miloc\u001b[0m\u001b[0;34m[\u001b[0m\u001b[0;36m0\u001b[0m\u001b[0;34m:\u001b[0m\u001b[0;34m,\u001b[0m\u001b[0;34m:\u001b[0m\u001b[0;36m4\u001b[0m\u001b[0;34m]\u001b[0m\u001b[0;34m.\u001b[0m\u001b[0mvalues\u001b[0m\u001b[0;34m[\u001b[0m\u001b[0;36m25\u001b[0m\u001b[0;34m]\u001b[0m\u001b[0;34m,\u001b[0m\u001b[0mcov_matrix_virginica\u001b[0m\u001b[0;34m,\u001b[0m\u001b[0mmean_viriginica\u001b[0m\u001b[0;34m,\u001b[0m\u001b[0mprob\u001b[0m\u001b[0;34m[\u001b[0m\u001b[0;36m0\u001b[0m\u001b[0;34m]\u001b[0m\u001b[0;34m)\u001b[0m\u001b[0;34m\u001b[0m\u001b[0;34m\u001b[0m\u001b[0m\n\u001b[0m",
      "\u001b[0;31mNameError\u001b[0m: name 'linear_discrimant' is not defined"
     ]
    }
   ],
   "source": [
    "linear_discrimant(test.iloc[0:,:4].values[25],cov_matrix_virginica,mean_viriginica,prob[0])"
   ]
  },
  {
   "cell_type": "code",
   "execution_count": 27,
   "metadata": {},
   "outputs": [
    {
     "ename": "NameError",
     "evalue": "name 'linear_discrimant' is not defined",
     "output_type": "error",
     "traceback": [
      "\u001b[0;31m---------------------------------------------------------------------------\u001b[0m",
      "\u001b[0;31mNameError\u001b[0m                                 Traceback (most recent call last)",
      "\u001b[0;32m<ipython-input-27-75f4335679fe>\u001b[0m in \u001b[0;36m<module>\u001b[0;34m\u001b[0m\n\u001b[0;32m----> 1\u001b[0;31m \u001b[0mlinear_discrimant\u001b[0m\u001b[0;34m(\u001b[0m\u001b[0mtest\u001b[0m\u001b[0;34m.\u001b[0m\u001b[0miloc\u001b[0m\u001b[0;34m[\u001b[0m\u001b[0;36m0\u001b[0m\u001b[0;34m:\u001b[0m\u001b[0;34m,\u001b[0m\u001b[0;34m:\u001b[0m\u001b[0;36m4\u001b[0m\u001b[0;34m]\u001b[0m\u001b[0;34m.\u001b[0m\u001b[0mvalues\u001b[0m\u001b[0;34m[\u001b[0m\u001b[0;36m25\u001b[0m\u001b[0;34m]\u001b[0m\u001b[0;34m,\u001b[0m\u001b[0mcov_matrix_versicolor\u001b[0m\u001b[0;34m,\u001b[0m\u001b[0mmean_versiciolor\u001b[0m\u001b[0;34m,\u001b[0m\u001b[0mprob\u001b[0m\u001b[0;34m[\u001b[0m\u001b[0;36m0\u001b[0m\u001b[0;34m]\u001b[0m\u001b[0;34m)\u001b[0m\u001b[0;34m\u001b[0m\u001b[0;34m\u001b[0m\u001b[0m\n\u001b[0m",
      "\u001b[0;31mNameError\u001b[0m: name 'linear_discrimant' is not defined"
     ]
    }
   ],
   "source": [
    "linear_discrimant(test.iloc[0:,:4].values[25],cov_matrix_versicolor,mean_versiciolor,prob[0])"
   ]
  },
  {
   "cell_type": "code",
   "execution_count": 28,
   "metadata": {},
   "outputs": [],
   "source": [
    "import operator\n",
    "def predict(X,cov_matrices,means,prior_prob,nclass,classes):\n",
    "    probabilities = {} \n",
    "    for i in range(nclass):\n",
    "        prob = discrimant(X, cov_matrices[i],means[i],prior_prob[i])\n",
    "        probabilities[classes[i]] =  prob\n",
    "    return max(probabilities.items(), key=operator.itemgetter(1))[0]   "
   ]
  },
  {
   "cell_type": "code",
   "execution_count": 29,
   "metadata": {},
   "outputs": [],
   "source": [
    "predictions = []\n",
    "for i in test.iloc[0:,:4].values:\n",
    "    d = predict(i,cov_matrices,means,prob,3,[0,1,2])\n",
    "    predictions.append(d)"
   ]
  },
  {
   "cell_type": "code",
   "execution_count": 30,
   "metadata": {},
   "outputs": [
    {
     "data": {
      "text/plain": [
       "0"
      ]
     },
     "execution_count": 30,
     "metadata": {},
     "output_type": "execute_result"
    }
   ],
   "source": [
    "predict(test.iloc[0:,:4].values[0],cov_matrices,means,prob,3,[0,1,2])"
   ]
  },
  {
   "cell_type": "code",
   "execution_count": 31,
   "metadata": {},
   "outputs": [],
   "source": [
    "def getAccuracy(testSet, predictions):\n",
    "    correct = 0\n",
    "    for x in range(len(testSet)):\n",
    "        if testSet[x][-1] == predictions[x]:\n",
    "            correct += 1\n",
    "    return (correct/float(len(testSet))) * 100.0"
   ]
  },
  {
   "cell_type": "code",
   "execution_count": 32,
   "metadata": {},
   "outputs": [
    {
     "data": {
      "text/plain": [
       "43.333333333333336"
      ]
     },
     "execution_count": 32,
     "metadata": {},
     "output_type": "execute_result"
    }
   ],
   "source": [
    "getAccuracy(test.values,predictions)"
   ]
  },
  {
   "cell_type": "markdown",
   "metadata": {},
   "source": [
    "## Artificial dataset"
   ]
  },
  {
   "cell_type": "code",
   "execution_count": 33,
   "metadata": {},
   "outputs": [],
   "source": [
    "features_1 = np.array([[np.random.uniform(-0.1, 0.1), np.random.uniform(-0.1, 0.1), 0] for _ in range(50)])\n",
    "features_2 = np.array([[np.random.uniform(-0.1, 0.1), np.random.uniform(0.9, 1.1), 1] for _ in range(50)])\n",
    "features_3 = np.array([[np.random.uniform(0.9, 1.1), np.random.uniform(-0.1, 0.1), 2] for _ in range(50)])\n",
    "dataset = np.concatenate([features_1, features_2, features_3], axis=0)"
   ]
  },
  {
   "cell_type": "code",
   "execution_count": 34,
   "metadata": {},
   "outputs": [],
   "source": [
    "art = pd.DataFrame(dataset)"
   ]
  },
  {
   "cell_type": "code",
   "execution_count": 35,
   "metadata": {},
   "outputs": [],
   "source": [
    "art_copy = art.copy()\n",
    "train = art_copy.sample(frac=0.80, random_state=2)\n",
    "test = art_copy.drop(train.index)"
   ]
  },
  {
   "cell_type": "code",
   "execution_count": 36,
   "metadata": {},
   "outputs": [],
   "source": [
    "class_1 = train[train[2] == 0]\n",
    "class_2 = train[train[2] == 1]\n",
    "class_3 = train[train[2] == 2]"
   ]
  },
  {
   "cell_type": "code",
   "execution_count": 37,
   "metadata": {},
   "outputs": [],
   "source": [
    "mean_class_1 = np.array(class_1.iloc[0:,:2].mean())\n",
    "mean_class_2 = np.array(class_2.iloc[0:,:2].mean())\n",
    "mean_class_3 = np.array(class_3.iloc[0:,:2].mean())"
   ]
  },
  {
   "cell_type": "code",
   "execution_count": 38,
   "metadata": {},
   "outputs": [],
   "source": [
    "cov_matrix_class_1 = np.cov(np.transpose(class_1.iloc[0:,:2]))\n",
    "cov_matrix_class_2 = np.cov(np.transpose(class_2.iloc[0:,:2]))\n",
    "cov_matrix_class_3 = np.cov(np.transpose(class_3.iloc[0:,:2]))"
   ]
  },
  {
   "cell_type": "code",
   "execution_count": 39,
   "metadata": {},
   "outputs": [],
   "source": [
    "cov_matrices = [cov_matrix_class_1,cov_matrix_class_2,cov_matrix_class_3]\n",
    "means = [mean_class_1,mean_class_2,mean_class_3]"
   ]
  },
  {
   "cell_type": "code",
   "execution_count": 40,
   "metadata": {},
   "outputs": [],
   "source": [
    "prob = pre_prob(train[2].values,3)"
   ]
  },
  {
   "cell_type": "code",
   "execution_count": 41,
   "metadata": {},
   "outputs": [],
   "source": [
    "predictions = []\n",
    "for i in test.iloc[0:,:2].values:\n",
    "    d = predict(i,cov_matrices,means,prob,3,[0,1,2])\n",
    "    predictions.append(d)"
   ]
  },
  {
   "cell_type": "code",
   "execution_count": 42,
   "metadata": {},
   "outputs": [
    {
     "data": {
      "text/plain": [
       "100.0"
      ]
     },
     "execution_count": 42,
     "metadata": {},
     "output_type": "execute_result"
    }
   ],
   "source": [
    "getAccuracy(test.values,predictions)"
   ]
  },
  {
   "cell_type": "markdown",
   "metadata": {},
   "source": [
    "## Vertebral Column Dataset "
   ]
  },
  {
   "cell_type": "code",
   "execution_count": 43,
   "metadata": {},
   "outputs": [],
   "source": [
    "from scipy.io import arff"
   ]
  },
  {
   "cell_type": "code",
   "execution_count": 44,
   "metadata": {},
   "outputs": [],
   "source": [
    "data = arff.loadarff('column_3C_weka.arff')\n",
    "df = pd.DataFrame(data[0])"
   ]
  },
  {
   "cell_type": "code",
   "execution_count": 45,
   "metadata": {},
   "outputs": [],
   "source": [
    "df['class'] = pd.to_numeric(df['class'])"
   ]
  },
  {
   "cell_type": "code",
   "execution_count": 46,
   "metadata": {},
   "outputs": [],
   "source": [
    "df_copy = df.copy()\n",
    "train = df_copy.sample(frac=0.80, random_state=5)\n",
    "test = df_copy.drop(train.index)"
   ]
  },
  {
   "cell_type": "code",
   "execution_count": 47,
   "metadata": {},
   "outputs": [],
   "source": [
    "DH = train[train['class'] == 0]\n",
    "SL = train[train['class'] == 1]\n",
    "N = train[train['class'] == 2]"
   ]
  },
  {
   "cell_type": "code",
   "execution_count": 48,
   "metadata": {},
   "outputs": [],
   "source": [
    "mean_DH = np.array(DH.iloc[0:,:6].mean())\n",
    "mean_SL = np.array(SL.iloc[0:,:6].mean())\n",
    "mean_N = np.array(N.iloc[0:,:6].mean())"
   ]
  },
  {
   "cell_type": "code",
   "execution_count": 49,
   "metadata": {},
   "outputs": [],
   "source": [
    "cov_matrix_DH = np.cov(np.transpose(DH.iloc[0:,:6]))\n",
    "cov_matrix_SL = np.cov(np.transpose(SL.iloc[0:,:6]))\n",
    "cov_matrix_N = np.cov(np.transpose(N.iloc[0:,:6]))"
   ]
  },
  {
   "cell_type": "code",
   "execution_count": 50,
   "metadata": {},
   "outputs": [],
   "source": [
    "cov_matrices = [cov_matrix_DH,cov_matrix_SL,cov_matrix_N]\n",
    "means = [mean_DH,mean_SL,mean_N]"
   ]
  },
  {
   "cell_type": "code",
   "execution_count": 51,
   "metadata": {},
   "outputs": [],
   "source": [
    "prob = pre_prob(train['class'].values,3)"
   ]
  },
  {
   "cell_type": "code",
   "execution_count": 52,
   "metadata": {},
   "outputs": [],
   "source": [
    "predictions = []\n",
    "for i in test.iloc[0:,:6].values:\n",
    "    d = predict(i,cov_matrices,means,prob,3,[0,1,2])\n",
    "    predictions.append(d)"
   ]
  },
  {
   "cell_type": "code",
   "execution_count": 53,
   "metadata": {},
   "outputs": [
    {
     "data": {
      "text/plain": [
       "69.35483870967742"
      ]
     },
     "execution_count": 53,
     "metadata": {},
     "output_type": "execute_result"
    }
   ],
   "source": [
    "getAccuracy(test.values,predictions)"
   ]
  },
  {
   "cell_type": "code",
   "execution_count": null,
   "metadata": {},
   "outputs": [],
   "source": []
  },
  {
   "cell_type": "code",
   "execution_count": null,
   "metadata": {},
   "outputs": [],
   "source": []
  }
 ],
 "metadata": {
  "kernelspec": {
   "display_name": "Python 3",
   "language": "python",
   "name": "python3"
  },
  "language_info": {
   "codemirror_mode": {
    "name": "ipython",
    "version": 3
   },
   "file_extension": ".py",
   "mimetype": "text/x-python",
   "name": "python",
   "nbconvert_exporter": "python",
   "pygments_lexer": "ipython3",
   "version": "3.7.3"
  }
 },
 "nbformat": 4,
 "nbformat_minor": 2
}
